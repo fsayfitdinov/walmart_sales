{
 "cells": [
  {
   "cell_type": "code",
   "execution_count": 1,
   "metadata": {},
   "outputs": [],
   "source": [
    "import numpy as np\n",
    "import pandas as pd\n",
    "import matplotlib.pyplot as plt\n",
    "import seaborn as sns\n",
    "%matplotlib inline"
   ]
  },
  {
   "cell_type": "code",
   "execution_count": 2,
   "metadata": {},
   "outputs": [],
   "source": [
    "path = 'https://raw.githubusercontent.com/TripathiAshutosh/MachineLearning/master/Walmart_Weekly_Sales_Prediction/Walmart%20Data%20Set%20Final%20Version%202.1.csv'\n",
    "\n",
    "df = pd.read_csv(path)"
   ]
  },
  {
   "cell_type": "code",
   "execution_count": 3,
   "metadata": {},
   "outputs": [
    {
     "data": {
      "text/html": [
       "<div>\n",
       "<style scoped>\n",
       "    .dataframe tbody tr th:only-of-type {\n",
       "        vertical-align: middle;\n",
       "    }\n",
       "\n",
       "    .dataframe tbody tr th {\n",
       "        vertical-align: top;\n",
       "    }\n",
       "\n",
       "    .dataframe thead th {\n",
       "        text-align: right;\n",
       "    }\n",
       "</style>\n",
       "<table border=\"1\" class=\"dataframe\">\n",
       "  <thead>\n",
       "    <tr style=\"text-align: right;\">\n",
       "      <th></th>\n",
       "      <th>Store</th>\n",
       "      <th>Dept</th>\n",
       "      <th>Date</th>\n",
       "      <th>IsHoliday</th>\n",
       "      <th>Temperature</th>\n",
       "      <th>Fuel_Price</th>\n",
       "      <th>MarkDown1</th>\n",
       "      <th>MarkDown2</th>\n",
       "      <th>MarkDown3</th>\n",
       "      <th>MarkDown4</th>\n",
       "      <th>MarkDown5</th>\n",
       "      <th>CPI</th>\n",
       "      <th>Unemployment</th>\n",
       "      <th>Type</th>\n",
       "      <th>Size</th>\n",
       "      <th>Weekly_Sales</th>\n",
       "    </tr>\n",
       "  </thead>\n",
       "  <tbody>\n",
       "    <tr>\n",
       "      <td>0</td>\n",
       "      <td>Store1</td>\n",
       "      <td>Dept1</td>\n",
       "      <td>2/5/2010</td>\n",
       "      <td>False</td>\n",
       "      <td>42.31</td>\n",
       "      <td>2.572</td>\n",
       "      <td>NaN</td>\n",
       "      <td>NaN</td>\n",
       "      <td>NaN</td>\n",
       "      <td>NaN</td>\n",
       "      <td>NaN</td>\n",
       "      <td>211.096358</td>\n",
       "      <td>8.106</td>\n",
       "      <td>A</td>\n",
       "      <td>151315</td>\n",
       "      <td>24924.50</td>\n",
       "    </tr>\n",
       "    <tr>\n",
       "      <td>1</td>\n",
       "      <td>Store1</td>\n",
       "      <td>Dept2</td>\n",
       "      <td>2/5/2010</td>\n",
       "      <td>False</td>\n",
       "      <td>42.31</td>\n",
       "      <td>2.572</td>\n",
       "      <td>NaN</td>\n",
       "      <td>NaN</td>\n",
       "      <td>NaN</td>\n",
       "      <td>NaN</td>\n",
       "      <td>NaN</td>\n",
       "      <td>211.096358</td>\n",
       "      <td>8.106</td>\n",
       "      <td>A</td>\n",
       "      <td>151315</td>\n",
       "      <td>50605.27</td>\n",
       "    </tr>\n",
       "    <tr>\n",
       "      <td>2</td>\n",
       "      <td>Store1</td>\n",
       "      <td>Dept3</td>\n",
       "      <td>2/5/2010</td>\n",
       "      <td>False</td>\n",
       "      <td>42.31</td>\n",
       "      <td>2.572</td>\n",
       "      <td>NaN</td>\n",
       "      <td>NaN</td>\n",
       "      <td>NaN</td>\n",
       "      <td>NaN</td>\n",
       "      <td>NaN</td>\n",
       "      <td>211.096358</td>\n",
       "      <td>8.106</td>\n",
       "      <td>A</td>\n",
       "      <td>151315</td>\n",
       "      <td>13740.12</td>\n",
       "    </tr>\n",
       "    <tr>\n",
       "      <td>3</td>\n",
       "      <td>Store1</td>\n",
       "      <td>Dept4</td>\n",
       "      <td>2/5/2010</td>\n",
       "      <td>False</td>\n",
       "      <td>42.31</td>\n",
       "      <td>2.572</td>\n",
       "      <td>NaN</td>\n",
       "      <td>NaN</td>\n",
       "      <td>NaN</td>\n",
       "      <td>NaN</td>\n",
       "      <td>NaN</td>\n",
       "      <td>211.096358</td>\n",
       "      <td>8.106</td>\n",
       "      <td>A</td>\n",
       "      <td>151315</td>\n",
       "      <td>39954.04</td>\n",
       "    </tr>\n",
       "    <tr>\n",
       "      <td>4</td>\n",
       "      <td>Store1</td>\n",
       "      <td>Dept5</td>\n",
       "      <td>2/5/2010</td>\n",
       "      <td>False</td>\n",
       "      <td>42.31</td>\n",
       "      <td>2.572</td>\n",
       "      <td>NaN</td>\n",
       "      <td>NaN</td>\n",
       "      <td>NaN</td>\n",
       "      <td>NaN</td>\n",
       "      <td>NaN</td>\n",
       "      <td>211.096358</td>\n",
       "      <td>8.106</td>\n",
       "      <td>A</td>\n",
       "      <td>151315</td>\n",
       "      <td>32229.38</td>\n",
       "    </tr>\n",
       "  </tbody>\n",
       "</table>\n",
       "</div>"
      ],
      "text/plain": [
       "    Store   Dept      Date  IsHoliday  Temperature  Fuel_Price  MarkDown1  \\\n",
       "0  Store1  Dept1  2/5/2010      False        42.31       2.572        NaN   \n",
       "1  Store1  Dept2  2/5/2010      False        42.31       2.572        NaN   \n",
       "2  Store1  Dept3  2/5/2010      False        42.31       2.572        NaN   \n",
       "3  Store1  Dept4  2/5/2010      False        42.31       2.572        NaN   \n",
       "4  Store1  Dept5  2/5/2010      False        42.31       2.572        NaN   \n",
       "\n",
       "   MarkDown2  MarkDown3  MarkDown4  MarkDown5         CPI  Unemployment Type  \\\n",
       "0        NaN        NaN        NaN        NaN  211.096358         8.106    A   \n",
       "1        NaN        NaN        NaN        NaN  211.096358         8.106    A   \n",
       "2        NaN        NaN        NaN        NaN  211.096358         8.106    A   \n",
       "3        NaN        NaN        NaN        NaN  211.096358         8.106    A   \n",
       "4        NaN        NaN        NaN        NaN  211.096358         8.106    A   \n",
       "\n",
       "     Size  Weekly_Sales  \n",
       "0  151315      24924.50  \n",
       "1  151315      50605.27  \n",
       "2  151315      13740.12  \n",
       "3  151315      39954.04  \n",
       "4  151315      32229.38  "
      ]
     },
     "execution_count": 3,
     "metadata": {},
     "output_type": "execute_result"
    }
   ],
   "source": [
    "df.head()"
   ]
  },
  {
   "cell_type": "code",
   "execution_count": 4,
   "metadata": {},
   "outputs": [
    {
     "data": {
      "text/html": [
       "<div>\n",
       "<style scoped>\n",
       "    .dataframe tbody tr th:only-of-type {\n",
       "        vertical-align: middle;\n",
       "    }\n",
       "\n",
       "    .dataframe tbody tr th {\n",
       "        vertical-align: top;\n",
       "    }\n",
       "\n",
       "    .dataframe thead th {\n",
       "        text-align: right;\n",
       "    }\n",
       "</style>\n",
       "<table border=\"1\" class=\"dataframe\">\n",
       "  <thead>\n",
       "    <tr style=\"text-align: right;\">\n",
       "      <th></th>\n",
       "      <th>Store</th>\n",
       "      <th>Dept</th>\n",
       "      <th>Date</th>\n",
       "      <th>IsHoliday</th>\n",
       "      <th>Temperature</th>\n",
       "      <th>Fuel_Price</th>\n",
       "      <th>MarkDown1</th>\n",
       "      <th>MarkDown2</th>\n",
       "      <th>MarkDown3</th>\n",
       "      <th>MarkDown4</th>\n",
       "      <th>MarkDown5</th>\n",
       "      <th>CPI</th>\n",
       "      <th>Unemployment</th>\n",
       "      <th>Type</th>\n",
       "      <th>Size</th>\n",
       "      <th>Weekly_Sales</th>\n",
       "    </tr>\n",
       "  </thead>\n",
       "  <tbody>\n",
       "    <tr>\n",
       "      <td>0</td>\n",
       "      <td>False</td>\n",
       "      <td>False</td>\n",
       "      <td>False</td>\n",
       "      <td>False</td>\n",
       "      <td>False</td>\n",
       "      <td>False</td>\n",
       "      <td>True</td>\n",
       "      <td>True</td>\n",
       "      <td>True</td>\n",
       "      <td>True</td>\n",
       "      <td>True</td>\n",
       "      <td>False</td>\n",
       "      <td>False</td>\n",
       "      <td>False</td>\n",
       "      <td>False</td>\n",
       "      <td>False</td>\n",
       "    </tr>\n",
       "    <tr>\n",
       "      <td>1</td>\n",
       "      <td>False</td>\n",
       "      <td>False</td>\n",
       "      <td>False</td>\n",
       "      <td>False</td>\n",
       "      <td>False</td>\n",
       "      <td>False</td>\n",
       "      <td>True</td>\n",
       "      <td>True</td>\n",
       "      <td>True</td>\n",
       "      <td>True</td>\n",
       "      <td>True</td>\n",
       "      <td>False</td>\n",
       "      <td>False</td>\n",
       "      <td>False</td>\n",
       "      <td>False</td>\n",
       "      <td>False</td>\n",
       "    </tr>\n",
       "    <tr>\n",
       "      <td>2</td>\n",
       "      <td>False</td>\n",
       "      <td>False</td>\n",
       "      <td>False</td>\n",
       "      <td>False</td>\n",
       "      <td>False</td>\n",
       "      <td>False</td>\n",
       "      <td>True</td>\n",
       "      <td>True</td>\n",
       "      <td>True</td>\n",
       "      <td>True</td>\n",
       "      <td>True</td>\n",
       "      <td>False</td>\n",
       "      <td>False</td>\n",
       "      <td>False</td>\n",
       "      <td>False</td>\n",
       "      <td>False</td>\n",
       "    </tr>\n",
       "    <tr>\n",
       "      <td>3</td>\n",
       "      <td>False</td>\n",
       "      <td>False</td>\n",
       "      <td>False</td>\n",
       "      <td>False</td>\n",
       "      <td>False</td>\n",
       "      <td>False</td>\n",
       "      <td>True</td>\n",
       "      <td>True</td>\n",
       "      <td>True</td>\n",
       "      <td>True</td>\n",
       "      <td>True</td>\n",
       "      <td>False</td>\n",
       "      <td>False</td>\n",
       "      <td>False</td>\n",
       "      <td>False</td>\n",
       "      <td>False</td>\n",
       "    </tr>\n",
       "    <tr>\n",
       "      <td>4</td>\n",
       "      <td>False</td>\n",
       "      <td>False</td>\n",
       "      <td>False</td>\n",
       "      <td>False</td>\n",
       "      <td>False</td>\n",
       "      <td>False</td>\n",
       "      <td>True</td>\n",
       "      <td>True</td>\n",
       "      <td>True</td>\n",
       "      <td>True</td>\n",
       "      <td>True</td>\n",
       "      <td>False</td>\n",
       "      <td>False</td>\n",
       "      <td>False</td>\n",
       "      <td>False</td>\n",
       "      <td>False</td>\n",
       "    </tr>\n",
       "  </tbody>\n",
       "</table>\n",
       "</div>"
      ],
      "text/plain": [
       "   Store   Dept   Date  IsHoliday  Temperature  Fuel_Price  MarkDown1  \\\n",
       "0  False  False  False      False        False       False       True   \n",
       "1  False  False  False      False        False       False       True   \n",
       "2  False  False  False      False        False       False       True   \n",
       "3  False  False  False      False        False       False       True   \n",
       "4  False  False  False      False        False       False       True   \n",
       "\n",
       "   MarkDown2  MarkDown3  MarkDown4  MarkDown5    CPI  Unemployment   Type  \\\n",
       "0       True       True       True       True  False         False  False   \n",
       "1       True       True       True       True  False         False  False   \n",
       "2       True       True       True       True  False         False  False   \n",
       "3       True       True       True       True  False         False  False   \n",
       "4       True       True       True       True  False         False  False   \n",
       "\n",
       "    Size  Weekly_Sales  \n",
       "0  False         False  \n",
       "1  False         False  \n",
       "2  False         False  \n",
       "3  False         False  \n",
       "4  False         False  "
      ]
     },
     "execution_count": 4,
     "metadata": {},
     "output_type": "execute_result"
    }
   ],
   "source": [
    "missing_data = df.isnull()\n",
    "missing_data.head(5)"
   ]
  },
  {
   "cell_type": "code",
   "execution_count": 5,
   "metadata": {},
   "outputs": [
    {
     "data": {
      "text/plain": [
       "Store            object\n",
       "Dept             object\n",
       "Date             object\n",
       "IsHoliday          bool\n",
       "Temperature     float64\n",
       "Fuel_Price      float64\n",
       "MarkDown1       float64\n",
       "MarkDown2       float64\n",
       "MarkDown3       float64\n",
       "MarkDown4       float64\n",
       "MarkDown5       float64\n",
       "CPI             float64\n",
       "Unemployment    float64\n",
       "Type             object\n",
       "Size              int64\n",
       "Weekly_Sales    float64\n",
       "dtype: object"
      ]
     },
     "execution_count": 5,
     "metadata": {},
     "output_type": "execute_result"
    }
   ],
   "source": [
    "df.dtypes"
   ]
  },
  {
   "cell_type": "code",
   "execution_count": 6,
   "metadata": {},
   "outputs": [
    {
     "name": "stdout",
     "output_type": "stream",
     "text": [
      "Store\n",
      "False    421570\n",
      "Name: Store, dtype: int64\n",
      "\n",
      "Dept\n",
      "False    421570\n",
      "Name: Dept, dtype: int64\n",
      "\n",
      "Date\n",
      "False    421570\n",
      "Name: Date, dtype: int64\n",
      "\n",
      "IsHoliday\n",
      "False    421570\n",
      "Name: IsHoliday, dtype: int64\n",
      "\n",
      "Temperature\n",
      "False    421570\n",
      "Name: Temperature, dtype: int64\n",
      "\n",
      "Fuel_Price\n",
      "False    421570\n",
      "Name: Fuel_Price, dtype: int64\n",
      "\n",
      "MarkDown1\n",
      "True     270889\n",
      "False    150681\n",
      "Name: MarkDown1, dtype: int64\n",
      "\n",
      "MarkDown2\n",
      "True     310322\n",
      "False    111248\n",
      "Name: MarkDown2, dtype: int64\n",
      "\n",
      "MarkDown3\n",
      "True     284479\n",
      "False    137091\n",
      "Name: MarkDown3, dtype: int64\n",
      "\n",
      "MarkDown4\n",
      "True     286603\n",
      "False    134967\n",
      "Name: MarkDown4, dtype: int64\n",
      "\n",
      "MarkDown5\n",
      "True     270138\n",
      "False    151432\n",
      "Name: MarkDown5, dtype: int64\n",
      "\n",
      "CPI\n",
      "False    421570\n",
      "Name: CPI, dtype: int64\n",
      "\n",
      "Unemployment\n",
      "False    421570\n",
      "Name: Unemployment, dtype: int64\n",
      "\n",
      "Type\n",
      "False    421570\n",
      "Name: Type, dtype: int64\n",
      "\n",
      "Size\n",
      "False    421570\n",
      "Name: Size, dtype: int64\n",
      "\n",
      "Weekly_Sales\n",
      "False    421570\n",
      "Name: Weekly_Sales, dtype: int64\n",
      "\n"
     ]
    }
   ],
   "source": [
    "for column in missing_data.columns.values.tolist():\n",
    "    print(column)\n",
    "    print (missing_data[column].value_counts())\n",
    "    print(\"\")    "
   ]
  },
  {
   "cell_type": "code",
   "execution_count": null,
   "metadata": {},
   "outputs": [],
   "source": []
  },
  {
   "cell_type": "code",
   "execution_count": 7,
   "metadata": {},
   "outputs": [
    {
     "data": {
      "image/png": "[encoded data removed]",
      "text/plain": [
       "<Figure size 720x504 with 4 Axes>"
      ]
     },
     "metadata": {},
     "output_type": "display_data"
    }
   ],
   "source": [
    "sns.set(style=\"white\", palette=\"muted\", color_codes=True)\n",
    "\n",
    "\n",
    "# Set up the matplotlib figure\n",
    "f, axes = plt.subplots(2, 2, figsize=(10, 7))\n",
    "sns.despine(left=True)\n",
    "\n",
    "# Generate a random univariate dataset\n",
    "\n",
    "\n",
    "# Plot a simple histogram with binsize determined automatically\n",
    "sns.distplot(df[\"Unemployment\"], bins=20,kde=False, ax=axes[0, 0])\n",
    "\n",
    "# Plot a kernel density estimate and rug plot\n",
    "sns.distplot(df['Size'], bins=20,kde=False, color=\"r\", ax=axes[0, 1])\n",
    "\n",
    "# Plot a filled kernel density estimate\n",
    "sns.distplot(df['CPI']  , bins=20, kde=False, color=\"g\", ax=axes[1, 0])\n",
    "\n",
    "# Plot a histogram and kernel density estimate\n",
    "sns.distplot(df['Fuel_Price'] , bins=20, kde=False, color=\"m\", ax=axes[1, 1])\n",
    "\n",
    "plt.setp(axes, yticks=[])\n",
    "plt.tight_layout()"
   ]
  },
  {
   "cell_type": "code",
   "execution_count": 8,
   "metadata": {},
   "outputs": [
    {
     "data": {
      "text/html": [
       "<div>\n",
       "<style scoped>\n",
       "    .dataframe tbody tr th:only-of-type {\n",
       "        vertical-align: middle;\n",
       "    }\n",
       "\n",
       "    .dataframe tbody tr th {\n",
       "        vertical-align: top;\n",
       "    }\n",
       "\n",
       "    .dataframe thead th {\n",
       "        text-align: right;\n",
       "    }\n",
       "</style>\n",
       "<table border=\"1\" class=\"dataframe\">\n",
       "  <thead>\n",
       "    <tr style=\"text-align: right;\">\n",
       "      <th></th>\n",
       "      <th>IsHoliday</th>\n",
       "      <th>Temperature</th>\n",
       "      <th>Fuel_Price</th>\n",
       "      <th>MarkDown1</th>\n",
       "      <th>MarkDown2</th>\n",
       "      <th>MarkDown3</th>\n",
       "      <th>MarkDown4</th>\n",
       "      <th>MarkDown5</th>\n",
       "      <th>CPI</th>\n",
       "      <th>Unemployment</th>\n",
       "      <th>Size</th>\n",
       "      <th>Weekly_Sales</th>\n",
       "    </tr>\n",
       "  </thead>\n",
       "  <tbody>\n",
       "    <tr>\n",
       "      <td>IsHoliday</td>\n",
       "      <td>1.000000</td>\n",
       "      <td>-0.155949</td>\n",
       "      <td>-0.078281</td>\n",
       "      <td>-0.035586</td>\n",
       "      <td>0.334818</td>\n",
       "      <td>0.427960</td>\n",
       "      <td>-0.000562</td>\n",
       "      <td>-0.053719</td>\n",
       "      <td>-0.001944</td>\n",
       "      <td>0.010460</td>\n",
       "      <td>0.000593</td>\n",
       "      <td>0.012774</td>\n",
       "    </tr>\n",
       "    <tr>\n",
       "      <td>Temperature</td>\n",
       "      <td>-0.155949</td>\n",
       "      <td>1.000000</td>\n",
       "      <td>0.143859</td>\n",
       "      <td>-0.040594</td>\n",
       "      <td>-0.323927</td>\n",
       "      <td>-0.096880</td>\n",
       "      <td>-0.063947</td>\n",
       "      <td>-0.017544</td>\n",
       "      <td>0.182112</td>\n",
       "      <td>0.096730</td>\n",
       "      <td>-0.058313</td>\n",
       "      <td>-0.002312</td>\n",
       "    </tr>\n",
       "    <tr>\n",
       "      <td>Fuel_Price</td>\n",
       "      <td>-0.078281</td>\n",
       "      <td>0.143859</td>\n",
       "      <td>1.000000</td>\n",
       "      <td>0.061371</td>\n",
       "      <td>-0.220895</td>\n",
       "      <td>-0.102092</td>\n",
       "      <td>-0.044986</td>\n",
       "      <td>-0.128065</td>\n",
       "      <td>-0.164210</td>\n",
       "      <td>-0.033853</td>\n",
       "      <td>0.003361</td>\n",
       "      <td>-0.000120</td>\n",
       "    </tr>\n",
       "    <tr>\n",
       "      <td>MarkDown1</td>\n",
       "      <td>-0.035586</td>\n",
       "      <td>-0.040594</td>\n",
       "      <td>0.061371</td>\n",
       "      <td>1.000000</td>\n",
       "      <td>0.024486</td>\n",
       "      <td>-0.108115</td>\n",
       "      <td>0.819238</td>\n",
       "      <td>0.160257</td>\n",
       "      <td>-0.055558</td>\n",
       "      <td>0.050285</td>\n",
       "      <td>0.345673</td>\n",
       "      <td>0.085251</td>\n",
       "    </tr>\n",
       "    <tr>\n",
       "      <td>MarkDown2</td>\n",
       "      <td>0.334818</td>\n",
       "      <td>-0.323927</td>\n",
       "      <td>-0.220895</td>\n",
       "      <td>0.024486</td>\n",
       "      <td>1.000000</td>\n",
       "      <td>-0.050108</td>\n",
       "      <td>-0.007768</td>\n",
       "      <td>-0.007440</td>\n",
       "      <td>-0.039534</td>\n",
       "      <td>0.020940</td>\n",
       "      <td>0.108827</td>\n",
       "      <td>0.024130</td>\n",
       "    </tr>\n",
       "    <tr>\n",
       "      <td>MarkDown3</td>\n",
       "      <td>0.427960</td>\n",
       "      <td>-0.096880</td>\n",
       "      <td>-0.102092</td>\n",
       "      <td>-0.108115</td>\n",
       "      <td>-0.050108</td>\n",
       "      <td>1.000000</td>\n",
       "      <td>-0.071095</td>\n",
       "      <td>-0.026467</td>\n",
       "      <td>-0.023590</td>\n",
       "      <td>0.012818</td>\n",
       "      <td>0.048913</td>\n",
       "      <td>0.060385</td>\n",
       "    </tr>\n",
       "    <tr>\n",
       "      <td>MarkDown4</td>\n",
       "      <td>-0.000562</td>\n",
       "      <td>-0.063947</td>\n",
       "      <td>-0.044986</td>\n",
       "      <td>0.819238</td>\n",
       "      <td>-0.007768</td>\n",
       "      <td>-0.071095</td>\n",
       "      <td>1.000000</td>\n",
       "      <td>0.107792</td>\n",
       "      <td>-0.049628</td>\n",
       "      <td>0.024963</td>\n",
       "      <td>0.168196</td>\n",
       "      <td>0.045414</td>\n",
       "    </tr>\n",
       "    <tr>\n",
       "      <td>MarkDown5</td>\n",
       "      <td>-0.053719</td>\n",
       "      <td>-0.017544</td>\n",
       "      <td>-0.128065</td>\n",
       "      <td>0.160257</td>\n",
       "      <td>-0.007440</td>\n",
       "      <td>-0.026467</td>\n",
       "      <td>0.107792</td>\n",
       "      <td>1.000000</td>\n",
       "      <td>0.060630</td>\n",
       "      <td>-0.003843</td>\n",
       "      <td>0.304575</td>\n",
       "      <td>0.090362</td>\n",
       "    </tr>\n",
       "    <tr>\n",
       "      <td>CPI</td>\n",
       "      <td>-0.001944</td>\n",
       "      <td>0.182112</td>\n",
       "      <td>-0.164210</td>\n",
       "      <td>-0.055558</td>\n",
       "      <td>-0.039534</td>\n",
       "      <td>-0.023590</td>\n",
       "      <td>-0.049628</td>\n",
       "      <td>0.060630</td>\n",
       "      <td>1.000000</td>\n",
       "      <td>-0.299953</td>\n",
       "      <td>-0.003314</td>\n",
       "      <td>-0.020921</td>\n",
       "    </tr>\n",
       "    <tr>\n",
       "      <td>Unemployment</td>\n",
       "      <td>0.010460</td>\n",
       "      <td>0.096730</td>\n",
       "      <td>-0.033853</td>\n",
       "      <td>0.050285</td>\n",
       "      <td>0.020940</td>\n",
       "      <td>0.012818</td>\n",
       "      <td>0.024963</td>\n",
       "      <td>-0.003843</td>\n",
       "      <td>-0.299953</td>\n",
       "      <td>1.000000</td>\n",
       "      <td>-0.068238</td>\n",
       "      <td>-0.025864</td>\n",
       "    </tr>\n",
       "    <tr>\n",
       "      <td>Size</td>\n",
       "      <td>0.000593</td>\n",
       "      <td>-0.058313</td>\n",
       "      <td>0.003361</td>\n",
       "      <td>0.345673</td>\n",
       "      <td>0.108827</td>\n",
       "      <td>0.048913</td>\n",
       "      <td>0.168196</td>\n",
       "      <td>0.304575</td>\n",
       "      <td>-0.003314</td>\n",
       "      <td>-0.068238</td>\n",
       "      <td>1.000000</td>\n",
       "      <td>0.243828</td>\n",
       "    </tr>\n",
       "    <tr>\n",
       "      <td>Weekly_Sales</td>\n",
       "      <td>0.012774</td>\n",
       "      <td>-0.002312</td>\n",
       "      <td>-0.000120</td>\n",
       "      <td>0.085251</td>\n",
       "      <td>0.024130</td>\n",
       "      <td>0.060385</td>\n",
       "      <td>0.045414</td>\n",
       "      <td>0.090362</td>\n",
       "      <td>-0.020921</td>\n",
       "      <td>-0.025864</td>\n",
       "      <td>0.243828</td>\n",
       "      <td>1.000000</td>\n",
       "    </tr>\n",
       "  </tbody>\n",
       "</table>\n",
       "</div>"
      ],
      "text/plain": [
       "              IsHoliday  Temperature  Fuel_Price  MarkDown1  MarkDown2  \\\n",
       "IsHoliday      1.000000    -0.155949   -0.078281  -0.035586   0.334818   \n",
       "Temperature   -0.155949     1.000000    0.143859  -0.040594  -0.323927   \n",
       "Fuel_Price    -0.078281     0.143859    1.000000   0.061371  -0.220895   \n",
       "MarkDown1     -0.035586    -0.040594    0.061371   1.000000   0.024486   \n",
       "MarkDown2      0.334818    -0.323927   -0.220895   0.024486   1.000000   \n",
       "MarkDown3      0.427960    -0.096880   -0.102092  -0.108115  -0.050108   \n",
       "MarkDown4     -0.000562    -0.063947   -0.044986   0.819238  -0.007768   \n",
       "MarkDown5     -0.053719    -0.017544   -0.128065   0.160257  -0.007440   \n",
       "CPI           -0.001944     0.182112   -0.164210  -0.055558  -0.039534   \n",
       "Unemployment   0.010460     0.096730   -0.033853   0.050285   0.020940   \n",
       "Size           0.000593    -0.058313    0.003361   0.345673   0.108827   \n",
       "Weekly_Sales   0.012774    -0.002312   -0.000120   0.085251   0.024130   \n",
       "\n",
       "              MarkDown3  MarkDown4  MarkDown5       CPI  Unemployment  \\\n",
       "IsHoliday      0.427960  -0.000562  -0.053719 -0.001944      0.010460   \n",
       "Temperature   -0.096880  -0.063947  -0.017544  0.182112      0.096730   \n",
       "Fuel_Price    -0.102092  -0.044986  -0.128065 -0.164210     -0.033853   \n",
       "MarkDown1     -0.108115   0.819238   0.160257 -0.055558      0.050285   \n",
       "MarkDown2     -0.050108  -0.007768  -0.007440 -0.039534      0.020940   \n",
       "MarkDown3      1.000000  -0.071095  -0.026467 -0.023590      0.012818   \n",
       "MarkDown4     -0.071095   1.000000   0.107792 -0.049628      0.024963   \n",
       "MarkDown5     -0.026467   0.107792   1.000000  0.060630     -0.003843   \n",
       "CPI           -0.023590  -0.049628   0.060630  1.000000     -0.299953   \n",
       "Unemployment   0.012818   0.024963  -0.003843 -0.299953      1.000000   \n",
       "Size           0.048913   0.168196   0.304575 -0.003314     -0.068238   \n",
       "Weekly_Sales   0.060385   0.045414   0.090362 -0.020921     -0.025864   \n",
       "\n",
       "                  Size  Weekly_Sales  \n",
       "IsHoliday     0.000593      0.012774  \n",
       "Temperature  -0.058313     -0.002312  \n",
       "Fuel_Price    0.003361     -0.000120  \n",
       "MarkDown1     0.345673      0.085251  \n",
       "MarkDown2     0.108827      0.024130  \n",
       "MarkDown3     0.048913      0.060385  \n",
       "MarkDown4     0.168196      0.045414  \n",
       "MarkDown5     0.304575      0.090362  \n",
       "CPI          -0.003314     -0.020921  \n",
       "Unemployment -0.068238     -0.025864  \n",
       "Size          1.000000      0.243828  \n",
       "Weekly_Sales  0.243828      1.000000  "
      ]
     },
     "execution_count": 8,
     "metadata": {},
     "output_type": "execute_result"
    }
   ],
   "source": [
    "df.corr()"
   ]
  },
  {
   "cell_type": "code",
   "execution_count": 9,
   "metadata": {},
   "outputs": [
    {
     "data": {
      "text/html": [
       "<div>\n",
       "<style scoped>\n",
       "    .dataframe tbody tr th:only-of-type {\n",
       "        vertical-align: middle;\n",
       "    }\n",
       "\n",
       "    .dataframe tbody tr th {\n",
       "        vertical-align: top;\n",
       "    }\n",
       "\n",
       "    .dataframe thead th {\n",
       "        text-align: right;\n",
       "    }\n",
       "</style>\n",
       "<table border=\"1\" class=\"dataframe\">\n",
       "  <thead>\n",
       "    <tr style=\"text-align: right;\">\n",
       "      <th></th>\n",
       "      <th>Temperature</th>\n",
       "      <th>Fuel_Price</th>\n",
       "      <th>MarkDown1</th>\n",
       "      <th>MarkDown2</th>\n",
       "      <th>MarkDown3</th>\n",
       "      <th>MarkDown4</th>\n",
       "      <th>MarkDown5</th>\n",
       "      <th>CPI</th>\n",
       "      <th>Unemployment</th>\n",
       "      <th>Size</th>\n",
       "      <th>Weekly_Sales</th>\n",
       "    </tr>\n",
       "  </thead>\n",
       "  <tbody>\n",
       "    <tr>\n",
       "      <td>count</td>\n",
       "      <td>421570.000000</td>\n",
       "      <td>421570.000000</td>\n",
       "      <td>150681.000000</td>\n",
       "      <td>111248.000000</td>\n",
       "      <td>137091.000000</td>\n",
       "      <td>134967.000000</td>\n",
       "      <td>151432.000000</td>\n",
       "      <td>421570.000000</td>\n",
       "      <td>421570.000000</td>\n",
       "      <td>421570.000000</td>\n",
       "      <td>421570.000000</td>\n",
       "    </tr>\n",
       "    <tr>\n",
       "      <td>mean</td>\n",
       "      <td>60.090059</td>\n",
       "      <td>3.361027</td>\n",
       "      <td>7246.420196</td>\n",
       "      <td>3334.628621</td>\n",
       "      <td>1439.421384</td>\n",
       "      <td>3383.168256</td>\n",
       "      <td>4628.975079</td>\n",
       "      <td>171.201947</td>\n",
       "      <td>7.960289</td>\n",
       "      <td>136727.915739</td>\n",
       "      <td>15981.258123</td>\n",
       "    </tr>\n",
       "    <tr>\n",
       "      <td>std</td>\n",
       "      <td>18.447931</td>\n",
       "      <td>0.458515</td>\n",
       "      <td>8291.221345</td>\n",
       "      <td>9475.357325</td>\n",
       "      <td>9623.078290</td>\n",
       "      <td>6292.384031</td>\n",
       "      <td>5962.887455</td>\n",
       "      <td>39.159276</td>\n",
       "      <td>1.863296</td>\n",
       "      <td>60980.583328</td>\n",
       "      <td>22711.183519</td>\n",
       "    </tr>\n",
       "    <tr>\n",
       "      <td>min</td>\n",
       "      <td>-2.060000</td>\n",
       "      <td>2.472000</td>\n",
       "      <td>0.270000</td>\n",
       "      <td>-265.760000</td>\n",
       "      <td>-29.100000</td>\n",
       "      <td>0.220000</td>\n",
       "      <td>135.160000</td>\n",
       "      <td>126.064000</td>\n",
       "      <td>3.879000</td>\n",
       "      <td>34875.000000</td>\n",
       "      <td>-4988.940000</td>\n",
       "    </tr>\n",
       "    <tr>\n",
       "      <td>25%</td>\n",
       "      <td>46.680000</td>\n",
       "      <td>2.933000</td>\n",
       "      <td>2240.270000</td>\n",
       "      <td>41.600000</td>\n",
       "      <td>5.080000</td>\n",
       "      <td>504.220000</td>\n",
       "      <td>1878.440000</td>\n",
       "      <td>132.022667</td>\n",
       "      <td>6.891000</td>\n",
       "      <td>93638.000000</td>\n",
       "      <td>2079.650000</td>\n",
       "    </tr>\n",
       "    <tr>\n",
       "      <td>50%</td>\n",
       "      <td>62.090000</td>\n",
       "      <td>3.452000</td>\n",
       "      <td>5347.450000</td>\n",
       "      <td>192.000000</td>\n",
       "      <td>24.600000</td>\n",
       "      <td>1481.310000</td>\n",
       "      <td>3359.450000</td>\n",
       "      <td>182.318780</td>\n",
       "      <td>7.866000</td>\n",
       "      <td>140167.000000</td>\n",
       "      <td>7612.030000</td>\n",
       "    </tr>\n",
       "    <tr>\n",
       "      <td>75%</td>\n",
       "      <td>74.280000</td>\n",
       "      <td>3.738000</td>\n",
       "      <td>9210.900000</td>\n",
       "      <td>1926.940000</td>\n",
       "      <td>103.990000</td>\n",
       "      <td>3595.040000</td>\n",
       "      <td>5563.800000</td>\n",
       "      <td>212.416993</td>\n",
       "      <td>8.572000</td>\n",
       "      <td>202505.000000</td>\n",
       "      <td>20205.852500</td>\n",
       "    </tr>\n",
       "    <tr>\n",
       "      <td>max</td>\n",
       "      <td>100.140000</td>\n",
       "      <td>4.468000</td>\n",
       "      <td>88646.760000</td>\n",
       "      <td>104519.540000</td>\n",
       "      <td>141630.610000</td>\n",
       "      <td>67474.850000</td>\n",
       "      <td>108519.280000</td>\n",
       "      <td>227.232807</td>\n",
       "      <td>14.313000</td>\n",
       "      <td>219622.000000</td>\n",
       "      <td>693099.360000</td>\n",
       "    </tr>\n",
       "  </tbody>\n",
       "</table>\n",
       "</div>"
      ],
      "text/plain": [
       "         Temperature     Fuel_Price      MarkDown1      MarkDown2  \\\n",
       "count  421570.000000  421570.000000  150681.000000  111248.000000   \n",
       "mean       60.090059       3.361027    7246.420196    3334.628621   \n",
       "std        18.447931       0.458515    8291.221345    9475.357325   \n",
       "min        -2.060000       2.472000       0.270000    -265.760000   \n",
       "25%        46.680000       2.933000    2240.270000      41.600000   \n",
       "50%        62.090000       3.452000    5347.450000     192.000000   \n",
       "75%        74.280000       3.738000    9210.900000    1926.940000   \n",
       "max       100.140000       4.468000   88646.760000  104519.540000   \n",
       "\n",
       "           MarkDown3      MarkDown4      MarkDown5            CPI  \\\n",
       "count  137091.000000  134967.000000  151432.000000  421570.000000   \n",
       "mean     1439.421384    3383.168256    4628.975079     171.201947   \n",
       "std      9623.078290    6292.384031    5962.887455      39.159276   \n",
       "min       -29.100000       0.220000     135.160000     126.064000   \n",
       "25%         5.080000     504.220000    1878.440000     132.022667   \n",
       "50%        24.600000    1481.310000    3359.450000     182.318780   \n",
       "75%       103.990000    3595.040000    5563.800000     212.416993   \n",
       "max    141630.610000   67474.850000  108519.280000     227.232807   \n",
       "\n",
       "        Unemployment           Size   Weekly_Sales  \n",
       "count  421570.000000  421570.000000  421570.000000  \n",
       "mean        7.960289  136727.915739   15981.258123  \n",
       "std         1.863296   60980.583328   22711.183519  \n",
       "min         3.879000   34875.000000   -4988.940000  \n",
       "25%         6.891000   93638.000000    2079.650000  \n",
       "50%         7.866000  140167.000000    7612.030000  \n",
       "75%         8.572000  202505.000000   20205.852500  \n",
       "max        14.313000  219622.000000  693099.360000  "
      ]
     },
     "execution_count": 9,
     "metadata": {},
     "output_type": "execute_result"
    }
   ],
   "source": [
    "df.describe()"
   ]
  },
  {
   "cell_type": "code",
   "execution_count": null,
   "metadata": {},
   "outputs": [],
   "source": []
  },
  {
   "cell_type": "code",
   "execution_count": 10,
   "metadata": {},
   "outputs": [],
   "source": [
    "from sklearn.preprocessing import LabelEncoder"
   ]
  },
  {
   "cell_type": "code",
   "execution_count": 11,
   "metadata": {},
   "outputs": [
    {
     "data": {
      "text/plain": [
       "0     0\n",
       "1    10\n",
       "2    21\n",
       "3    32\n",
       "4    43\n",
       "Name: Dept_code, dtype: int32"
      ]
     },
     "execution_count": 11,
     "metadata": {},
     "output_type": "execute_result"
    }
   ],
   "source": [
    "lb_enc = LabelEncoder()\n",
    "df['Dept_code'] = lb_enc.fit_transform(df['Dept']) \n",
    "df['Store_code'] = lb_enc.fit_transform(df['Store'])\n",
    "df['Type_code'] = lb_enc.fit_transform(df['Type'])\n",
    "\n",
    "df['Dept_code'].head()"
   ]
  },
  {
   "cell_type": "code",
   "execution_count": 12,
   "metadata": {},
   "outputs": [],
   "source": [
    "df.drop(['Store','Dept','Type'],axis = 1, inplace = True) "
   ]
  },
  {
   "cell_type": "code",
   "execution_count": 13,
   "metadata": {},
   "outputs": [
    {
     "name": "stdout",
     "output_type": "stream",
     "text": [
      "<class 'pandas.core.frame.DataFrame'>\n",
      "RangeIndex: 421570 entries, 0 to 421569\n",
      "Data columns (total 16 columns):\n",
      "Date            421570 non-null object\n",
      "IsHoliday       421570 non-null bool\n",
      "Temperature     421570 non-null float64\n",
      "Fuel_Price      421570 non-null float64\n",
      "MarkDown1       150681 non-null float64\n",
      "MarkDown2       111248 non-null float64\n",
      "MarkDown3       137091 non-null float64\n",
      "MarkDown4       134967 non-null float64\n",
      "MarkDown5       151432 non-null float64\n",
      "CPI             421570 non-null float64\n",
      "Unemployment    421570 non-null float64\n",
      "Size            421570 non-null int64\n",
      "Weekly_Sales    421570 non-null float64\n",
      "Dept_code       421570 non-null int32\n",
      "Store_code      421570 non-null int32\n",
      "Type_code       421570 non-null int32\n",
      "dtypes: bool(1), float64(10), int32(3), int64(1), object(1)\n",
      "memory usage: 43.8+ MB\n"
     ]
    }
   ],
   "source": [
    "df.info()"
   ]
  },
  {
   "cell_type": "code",
   "execution_count": 14,
   "metadata": {},
   "outputs": [],
   "source": [
    "df['Date'] = pd.to_datetime(df['Date'])"
   ]
  },
  {
   "cell_type": "code",
   "execution_count": 15,
   "metadata": {},
   "outputs": [],
   "source": [
    "# Extract date features\n",
    "df['Date_dayofweek'] = df['Date'].dt.dayofweek\n",
    "df['Date_month'] = df['Date'].dt.month \n",
    "df['Date_year'] = df['Date'].dt.year\n",
    "df['Date_day'] = df['Date'].dt.day"
   ]
  },
  {
   "cell_type": "code",
   "execution_count": 16,
   "metadata": {},
   "outputs": [
    {
     "data": {
      "text/html": [
       "<div>\n",
       "<style scoped>\n",
       "    .dataframe tbody tr th:only-of-type {\n",
       "        vertical-align: middle;\n",
       "    }\n",
       "\n",
       "    .dataframe tbody tr th {\n",
       "        vertical-align: top;\n",
       "    }\n",
       "\n",
       "    .dataframe thead th {\n",
       "        text-align: right;\n",
       "    }\n",
       "</style>\n",
       "<table border=\"1\" class=\"dataframe\">\n",
       "  <thead>\n",
       "    <tr style=\"text-align: right;\">\n",
       "      <th></th>\n",
       "      <th>Date</th>\n",
       "      <th>IsHoliday</th>\n",
       "      <th>Temperature</th>\n",
       "      <th>Fuel_Price</th>\n",
       "      <th>MarkDown1</th>\n",
       "      <th>MarkDown2</th>\n",
       "      <th>MarkDown3</th>\n",
       "      <th>MarkDown4</th>\n",
       "      <th>MarkDown5</th>\n",
       "      <th>CPI</th>\n",
       "      <th>Unemployment</th>\n",
       "      <th>Size</th>\n",
       "      <th>Weekly_Sales</th>\n",
       "      <th>Dept_code</th>\n",
       "      <th>Store_code</th>\n",
       "      <th>Type_code</th>\n",
       "      <th>Date_dayofweek</th>\n",
       "      <th>Date_month</th>\n",
       "      <th>Date_year</th>\n",
       "      <th>Date_day</th>\n",
       "    </tr>\n",
       "  </thead>\n",
       "  <tbody>\n",
       "    <tr>\n",
       "      <td>0</td>\n",
       "      <td>2010-02-05</td>\n",
       "      <td>False</td>\n",
       "      <td>42.31</td>\n",
       "      <td>2.572</td>\n",
       "      <td>NaN</td>\n",
       "      <td>NaN</td>\n",
       "      <td>NaN</td>\n",
       "      <td>NaN</td>\n",
       "      <td>NaN</td>\n",
       "      <td>211.096358</td>\n",
       "      <td>8.106</td>\n",
       "      <td>151315</td>\n",
       "      <td>24924.50</td>\n",
       "      <td>0</td>\n",
       "      <td>0</td>\n",
       "      <td>0</td>\n",
       "      <td>4</td>\n",
       "      <td>2</td>\n",
       "      <td>2010</td>\n",
       "      <td>5</td>\n",
       "    </tr>\n",
       "    <tr>\n",
       "      <td>1</td>\n",
       "      <td>2010-02-05</td>\n",
       "      <td>False</td>\n",
       "      <td>42.31</td>\n",
       "      <td>2.572</td>\n",
       "      <td>NaN</td>\n",
       "      <td>NaN</td>\n",
       "      <td>NaN</td>\n",
       "      <td>NaN</td>\n",
       "      <td>NaN</td>\n",
       "      <td>211.096358</td>\n",
       "      <td>8.106</td>\n",
       "      <td>151315</td>\n",
       "      <td>50605.27</td>\n",
       "      <td>10</td>\n",
       "      <td>0</td>\n",
       "      <td>0</td>\n",
       "      <td>4</td>\n",
       "      <td>2</td>\n",
       "      <td>2010</td>\n",
       "      <td>5</td>\n",
       "    </tr>\n",
       "    <tr>\n",
       "      <td>2</td>\n",
       "      <td>2010-02-05</td>\n",
       "      <td>False</td>\n",
       "      <td>42.31</td>\n",
       "      <td>2.572</td>\n",
       "      <td>NaN</td>\n",
       "      <td>NaN</td>\n",
       "      <td>NaN</td>\n",
       "      <td>NaN</td>\n",
       "      <td>NaN</td>\n",
       "      <td>211.096358</td>\n",
       "      <td>8.106</td>\n",
       "      <td>151315</td>\n",
       "      <td>13740.12</td>\n",
       "      <td>21</td>\n",
       "      <td>0</td>\n",
       "      <td>0</td>\n",
       "      <td>4</td>\n",
       "      <td>2</td>\n",
       "      <td>2010</td>\n",
       "      <td>5</td>\n",
       "    </tr>\n",
       "    <tr>\n",
       "      <td>3</td>\n",
       "      <td>2010-02-05</td>\n",
       "      <td>False</td>\n",
       "      <td>42.31</td>\n",
       "      <td>2.572</td>\n",
       "      <td>NaN</td>\n",
       "      <td>NaN</td>\n",
       "      <td>NaN</td>\n",
       "      <td>NaN</td>\n",
       "      <td>NaN</td>\n",
       "      <td>211.096358</td>\n",
       "      <td>8.106</td>\n",
       "      <td>151315</td>\n",
       "      <td>39954.04</td>\n",
       "      <td>32</td>\n",
       "      <td>0</td>\n",
       "      <td>0</td>\n",
       "      <td>4</td>\n",
       "      <td>2</td>\n",
       "      <td>2010</td>\n",
       "      <td>5</td>\n",
       "    </tr>\n",
       "    <tr>\n",
       "      <td>4</td>\n",
       "      <td>2010-02-05</td>\n",
       "      <td>False</td>\n",
       "      <td>42.31</td>\n",
       "      <td>2.572</td>\n",
       "      <td>NaN</td>\n",
       "      <td>NaN</td>\n",
       "      <td>NaN</td>\n",
       "      <td>NaN</td>\n",
       "      <td>NaN</td>\n",
       "      <td>211.096358</td>\n",
       "      <td>8.106</td>\n",
       "      <td>151315</td>\n",
       "      <td>32229.38</td>\n",
       "      <td>43</td>\n",
       "      <td>0</td>\n",
       "      <td>0</td>\n",
       "      <td>4</td>\n",
       "      <td>2</td>\n",
       "      <td>2010</td>\n",
       "      <td>5</td>\n",
       "    </tr>\n",
       "  </tbody>\n",
       "</table>\n",
       "</div>"
      ],
      "text/plain": [
       "        Date  IsHoliday  Temperature  Fuel_Price  MarkDown1  MarkDown2  \\\n",
       "0 2010-02-05      False        42.31       2.572        NaN        NaN   \n",
       "1 2010-02-05      False        42.31       2.572        NaN        NaN   \n",
       "2 2010-02-05      False        42.31       2.572        NaN        NaN   \n",
       "3 2010-02-05      False        42.31       2.572        NaN        NaN   \n",
       "4 2010-02-05      False        42.31       2.572        NaN        NaN   \n",
       "\n",
       "   MarkDown3  MarkDown4  MarkDown5         CPI  Unemployment    Size  \\\n",
       "0        NaN        NaN        NaN  211.096358         8.106  151315   \n",
       "1        NaN        NaN        NaN  211.096358         8.106  151315   \n",
       "2        NaN        NaN        NaN  211.096358         8.106  151315   \n",
       "3        NaN        NaN        NaN  211.096358         8.106  151315   \n",
       "4        NaN        NaN        NaN  211.096358         8.106  151315   \n",
       "\n",
       "   Weekly_Sales  Dept_code  Store_code  Type_code  Date_dayofweek  Date_month  \\\n",
       "0      24924.50          0           0          0               4           2   \n",
       "1      50605.27         10           0          0               4           2   \n",
       "2      13740.12         21           0          0               4           2   \n",
       "3      39954.04         32           0          0               4           2   \n",
       "4      32229.38         43           0          0               4           2   \n",
       "\n",
       "   Date_year  Date_day  \n",
       "0       2010         5  \n",
       "1       2010         5  \n",
       "2       2010         5  \n",
       "3       2010         5  \n",
       "4       2010         5  "
      ]
     },
     "execution_count": 16,
     "metadata": {},
     "output_type": "execute_result"
    }
   ],
   "source": [
    "df.head()"
   ]
  },
  {
   "cell_type": "code",
   "execution_count": 17,
   "metadata": {},
   "outputs": [
    {
     "data": {
      "text/plain": [
       "Date                   0\n",
       "IsHoliday              0\n",
       "Temperature            0\n",
       "Fuel_Price             0\n",
       "MarkDown1         270889\n",
       "MarkDown2         310322\n",
       "MarkDown3         284479\n",
       "MarkDown4         286603\n",
       "MarkDown5         270138\n",
       "CPI                    0\n",
       "Unemployment           0\n",
       "Size                   0\n",
       "Weekly_Sales           0\n",
       "Dept_code              0\n",
       "Store_code             0\n",
       "Type_code              0\n",
       "Date_dayofweek         0\n",
       "Date_month             0\n",
       "Date_year              0\n",
       "Date_day               0\n",
       "dtype: int64"
      ]
     },
     "execution_count": 17,
     "metadata": {},
     "output_type": "execute_result"
    }
   ],
   "source": [
    "df.isnull().sum()"
   ]
  },
  {
   "cell_type": "code",
   "execution_count": 18,
   "metadata": {},
   "outputs": [],
   "source": [
    "df.fillna(0,inplace = True) "
   ]
  },
  {
   "cell_type": "code",
   "execution_count": 19,
   "metadata": {},
   "outputs": [
    {
     "data": {
      "text/plain": [
       "<matplotlib.axes._subplots.AxesSubplot at 0x14c0d526048>"
      ]
     },
     "execution_count": 19,
     "metadata": {},
     "output_type": "execute_result"
    },
    {
     "data": {
      "image/png": "[encoded data removed]",
      "text/plain": [
       "<Figure size 1080x720 with 2 Axes>"
      ]
     },
     "metadata": {},
     "output_type": "display_data"
    },
    {
     "data": {
      "text/plain": [
       "<Figure size 720x504 with 0 Axes>"
      ]
     },
     "metadata": {},
     "output_type": "display_data"
    }
   ],
   "source": [
    "f, ax = plt.subplots(figsize=(15, 10))\n",
    "plt.figure(figsize=(10,7))\n",
    "sns.heatmap(df.drop(['Date_dayofweek','Date_month', 'Date_year', 'Date_day'], axis=1).corr(), cmap='coolwarm', square=True, ax=ax)"
   ]
  },
  {
   "cell_type": "code",
   "execution_count": 20,
   "metadata": {},
   "outputs": [
    {
     "data": {
      "text/plain": [
       "<matplotlib.axes._subplots.AxesSubplot at 0x14c0d5cebc8>"
      ]
     },
     "execution_count": 20,
     "metadata": {},
     "output_type": "execute_result"
    },
    {
     "data": {
      "image/png": "[encoded data removed]",
      "text/plain": [
       "<Figure size 1080x864 with 1 Axes>"
      ]
     },
     "metadata": {},
     "output_type": "display_data"
    }
   ],
   "source": [
    "f,ax = plt.subplots(figsize=(15, 12))\n",
    "df.plot(kind='line', x='Weekly_Sales', y='Size', alpha=0.7, ax=ax)"
   ]
  },
  {
   "cell_type": "code",
   "execution_count": 21,
   "metadata": {},
   "outputs": [
    {
     "data": {
      "text/plain": [
       "<matplotlib.axes._subplots.AxesSubplot at 0x14c0d7c4b08>"
      ]
     },
     "execution_count": 21,
     "metadata": {},
     "output_type": "execute_result"
    },
    {
     "data": {
      "image/png": "[encoded data removed]",
      "text/plain": [
       "<Figure size 720x576 with 1 Axes>"
      ]
     },
     "metadata": {},
     "output_type": "display_data"
    }
   ],
   "source": [
    "f,ax = plt.subplots(figsize=(10, 8))\n",
    "sns.boxplot(x=df['Weekly_Sales'],ax=ax)"
   ]
  },
  {
   "cell_type": "code",
   "execution_count": 22,
   "metadata": {},
   "outputs": [
    {
     "data": {
      "image/png": "[encoded data removed]",
      "text/plain": [
       "<Figure size 1152x576 with 1 Axes>"
      ]
     },
     "metadata": {},
     "output_type": "display_data"
    }
   ],
   "source": [
    "fig, ax = plt.subplots(figsize=(16,8))\n",
    "ax.scatter(df['Weekly_Sales'], df['Size'])\n",
    "ax.set_xlabel('Weekly Sales')\n",
    "ax.set_ylabel('Size')\n",
    "plt.show()"
   ]
  },
  {
   "cell_type": "code",
   "execution_count": 23,
   "metadata": {},
   "outputs": [],
   "source": [
    "#### from above box plot and scatter plot, weekly sale greater than 200000 considered as outlier hence setting it to 100000\n",
    "\n",
    "df.Weekly_Sales=np.where(df.Weekly_Sales>200000, 200000,df.Weekly_Sales)"
   ]
  },
  {
   "cell_type": "code",
   "execution_count": 24,
   "metadata": {},
   "outputs": [
    {
     "data": {
      "text/plain": [
       "Text(0.5, 0, 'Weekly Sales')"
      ]
     },
     "execution_count": 24,
     "metadata": {},
     "output_type": "execute_result"
    },
    {
     "data": {
      "image/png": "[encoded data removed]",
      "text/plain": [
       "<Figure size 1080x864 with 1 Axes>"
      ]
     },
     "metadata": {},
     "output_type": "display_data"
    }
   ],
   "source": [
    "f,ax = plt.subplots(figsize=(15, 12))\n",
    "df.Weekly_Sales.plot.hist(bins=25,ax=ax)\n",
    "ax.set_xlabel('Weekly Sales')"
   ]
  },
  {
   "cell_type": "code",
   "execution_count": 25,
   "metadata": {},
   "outputs": [],
   "source": [
    "# again from above graph we can make all sales greater than 100000 equal to 100000 by treating them as outliers\n",
    "\n",
    "df.Weekly_Sales=np.where(df.Weekly_Sales>100000, 100000,df.Weekly_Sales)"
   ]
  },
  {
   "cell_type": "code",
   "execution_count": 26,
   "metadata": {},
   "outputs": [
    {
     "data": {
      "text/plain": [
       "Text(0.5, 0, 'Weekly Sales')"
      ]
     },
     "execution_count": 26,
     "metadata": {},
     "output_type": "execute_result"
    },
    {
     "data": {
      "image/png": "[encoded data removed]",
      "text/plain": [
       "<Figure size 1080x864 with 1 Axes>"
      ]
     },
     "metadata": {},
     "output_type": "display_data"
    }
   ],
   "source": [
    "f,ax = plt.subplots(figsize=(15, 12))\n",
    "df.Weekly_Sales.plot.hist(bins=25,ax=ax)\n",
    "ax.set_xlabel('Weekly Sales')"
   ]
  },
  {
   "cell_type": "code",
   "execution_count": 27,
   "metadata": {},
   "outputs": [],
   "source": [
    "from datetime import datetime"
   ]
  },
  {
   "cell_type": "code",
   "execution_count": 28,
   "metadata": {},
   "outputs": [],
   "source": [
    "df['Super_Bowl'] = np.where((df['Date']==datetime(2010, 2, 7)) | (df['Date']==datetime(2011, 2, 7)) | (df['Date']==datetime(2012, 2, 6)) | (df['Date']==datetime(2013, 2, 4)),1,0)\n",
    "df['Labour_Day'] = np.where((df['Date']==datetime(2010, 9, 6)) | (df['Date']==datetime(2011, 9, 5)) | (df['Date']==datetime(2012, 9, 3)) | (df['Date']==datetime(2013, 8, 30)),1,0)\n",
    "df['Thanksgiving'] = np.where((df['Date']==datetime(2010, 11, 25)) | (df['Date']==datetime(2011, 11, 24)) | (df['Date']==datetime(2012, 11, 22)) | (df['Date']==datetime(2013, 11, 28)),1,0)\n",
    "df['Christmas'] = np.where((df['Date']==datetime(2010, 12, 25)) | (df['Date']==datetime(2011, 12, 25)) | (df['Date']==datetime(2012, 12, 25)) | (df['Date']==datetime(2013, 12, 25)),1,0)"
   ]
  },
  {
   "cell_type": "code",
   "execution_count": 29,
   "metadata": {},
   "outputs": [],
   "source": [
    "df['IsHoliday']= df['Super_Bowl']|df['Labour_Day']|df['Thanksgiving']|df['Christmas']"
   ]
  },
  {
   "cell_type": "code",
   "execution_count": 30,
   "metadata": {},
   "outputs": [
    {
     "name": "stdout",
     "output_type": "stream",
     "text": [
      "<class 'pandas.core.frame.DataFrame'>\n",
      "RangeIndex: 421570 entries, 0 to 421569\n",
      "Data columns (total 24 columns):\n",
      "Date              421570 non-null datetime64[ns]\n",
      "IsHoliday         421570 non-null int32\n",
      "Temperature       421570 non-null float64\n",
      "Fuel_Price        421570 non-null float64\n",
      "MarkDown1         421570 non-null float64\n",
      "MarkDown2         421570 non-null float64\n",
      "MarkDown3         421570 non-null float64\n",
      "MarkDown4         421570 non-null float64\n",
      "MarkDown5         421570 non-null float64\n",
      "CPI               421570 non-null float64\n",
      "Unemployment      421570 non-null float64\n",
      "Size              421570 non-null int64\n",
      "Weekly_Sales      421570 non-null float64\n",
      "Dept_code         421570 non-null int32\n",
      "Store_code        421570 non-null int32\n",
      "Type_code         421570 non-null int32\n",
      "Date_dayofweek    421570 non-null int64\n",
      "Date_month        421570 non-null int64\n",
      "Date_year         421570 non-null int64\n",
      "Date_day          421570 non-null int64\n",
      "Super_Bowl        421570 non-null int32\n",
      "Labour_Day        421570 non-null int32\n",
      "Thanksgiving      421570 non-null int32\n",
      "Christmas         421570 non-null int32\n",
      "dtypes: datetime64[ns](1), float64(10), int32(8), int64(5)\n",
      "memory usage: 64.3 MB\n"
     ]
    }
   ],
   "source": [
    "df.info()"
   ]
  },
  {
   "cell_type": "code",
   "execution_count": 31,
   "metadata": {},
   "outputs": [
    {
     "name": "stdout",
     "output_type": "stream",
     "text": [
      "0    421570\n",
      "Name: Christmas, dtype: int64\n",
      "0    421570\n",
      "Name: Super_Bowl, dtype: int64\n",
      "0    421570\n",
      "Name: Thanksgiving, dtype: int64\n",
      "0    421570\n",
      "Name: Labour_Day, dtype: int64\n"
     ]
    }
   ],
   "source": [
    "print (df.Christmas.value_counts())\n",
    "print (df['Super_Bowl'].value_counts())\n",
    "print (df['Thanksgiving'].value_counts())\n",
    "print (df['Labour_Day'].value_counts())"
   ]
  },
  {
   "cell_type": "code",
   "execution_count": 32,
   "metadata": {},
   "outputs": [],
   "source": [
    "dp=['Super_Bowl','Labour_Day','Thanksgiving','Christmas']\n",
    "df.drop(dp,axis=1,inplace=True)"
   ]
  },
  {
   "cell_type": "code",
   "execution_count": 33,
   "metadata": {},
   "outputs": [],
   "source": [
    "df.drop(['Date'], axis=1,inplace = True)"
   ]
  },
  {
   "cell_type": "code",
   "execution_count": 34,
   "metadata": {},
   "outputs": [],
   "source": [
    "X=df.drop(['Weekly_Sales'], axis=1)\n",
    "\n",
    "y=df['Weekly_Sales']"
   ]
  },
  {
   "cell_type": "code",
   "execution_count": 35,
   "metadata": {},
   "outputs": [],
   "source": [
    "from sklearn.model_selection import train_test_split"
   ]
  },
  {
   "cell_type": "code",
   "execution_count": 36,
   "metadata": {},
   "outputs": [],
   "source": [
    "X_train, X_test, y_train, y_test = train_test_split(X, y, test_size=0.3, random_state=101)"
   ]
  },
  {
   "cell_type": "code",
   "execution_count": 37,
   "metadata": {},
   "outputs": [],
   "source": [
    "from sklearn.linear_model import LinearRegression"
   ]
  },
  {
   "cell_type": "code",
   "execution_count": 38,
   "metadata": {},
   "outputs": [
    {
     "name": "stdout",
     "output_type": "stream",
     "text": [
      "0.10824082523023405\n"
     ]
    }
   ],
   "source": [
    "mlr = LinearRegression()\n",
    "mlr.fit(X_train, y_train)\n",
    "y_pred_linear=mlr.predict(X_test)\n",
    "acc_linear= mlr.score(X_train, y_train)\n",
    "print (acc_linear)"
   ]
  },
  {
   "cell_type": "code",
   "execution_count": 39,
   "metadata": {},
   "outputs": [
    {
     "data": {
      "text/plain": [
       "10.824082523023405"
      ]
     },
     "execution_count": 39,
     "metadata": {},
     "output_type": "execute_result"
    }
   ],
   "source": [
    "mlr.score(X_train, y_train) * 100"
   ]
  },
  {
   "cell_type": "code",
   "execution_count": 40,
   "metadata": {},
   "outputs": [
    {
     "data": {
      "text/plain": [
       "0.10824082523023405"
      ]
     },
     "execution_count": 40,
     "metadata": {},
     "output_type": "execute_result"
    }
   ],
   "source": [
    "mlr.score(X_train, y_train) #r square"
   ]
  },
  {
   "cell_type": "code",
   "execution_count": 41,
   "metadata": {},
   "outputs": [
    {
     "data": {
      "text/plain": [
       "0.11071460549494559"
      ]
     },
     "execution_count": 41,
     "metadata": {},
     "output_type": "execute_result"
    }
   ],
   "source": [
    "mlr.score(X_test, y_test)"
   ]
  },
  {
   "cell_type": "code",
   "execution_count": 42,
   "metadata": {},
   "outputs": [
    {
     "data": {
      "text/plain": [
       "<matplotlib.collections.PathCollection at 0x14c298f55c8>"
      ]
     },
     "execution_count": 42,
     "metadata": {},
     "output_type": "execute_result"
    },
    {
     "data": {
      "image/png": "[encoded data removed]",
      "text/plain": [
       "<Figure size 432x288 with 1 Axes>"
      ]
     },
     "metadata": {},
     "output_type": "display_data"
    }
   ],
   "source": [
    "plt.scatter(y_test,y_pred_linear)"
   ]
  },
  {
   "cell_type": "code",
   "execution_count": 43,
   "metadata": {},
   "outputs": [
    {
     "name": "stdout",
     "output_type": "stream",
     "text": [
      "Mean_Squared_Error : 372410168.15023386\n",
      "Root_Mean_Squared_Error : 19297.93170653876\n",
      "r_square_value : 0.1107146054949456\n"
     ]
    }
   ],
   "source": [
    "from sklearn.metrics import mean_squared_error, r2_score, confusion_matrix\n",
    "mse = mean_squared_error(y_test, y_pred_linear)\n",
    "r_squared = r2_score(y_test, y_pred_linear)\n",
    "from math import sqrt\n",
    "rmse = sqrt(mse)\n",
    "print('Mean_Squared_Error :' ,mse)\n",
    "print('Root_Mean_Squared_Error :' ,rmse)\n",
    "print('r_square_value :',r_squared)"
   ]
  },
  {
   "cell_type": "code",
   "execution_count": 44,
   "metadata": {},
   "outputs": [],
   "source": [
    "from sklearn.ensemble import RandomForestRegressor"
   ]
  },
  {
   "cell_type": "code",
   "execution_count": 45,
   "metadata": {},
   "outputs": [],
   "source": [
    "rf = RandomForestRegressor(n_estimators=100)"
   ]
  },
  {
   "cell_type": "code",
   "execution_count": 46,
   "metadata": {},
   "outputs": [
    {
     "data": {
      "text/plain": [
       "RandomForestRegressor(bootstrap=True, criterion='mse', max_depth=None,\n",
       "                      max_features='auto', max_leaf_nodes=None,\n",
       "                      min_impurity_decrease=0.0, min_impurity_split=None,\n",
       "                      min_samples_leaf=1, min_samples_split=2,\n",
       "                      min_weight_fraction_leaf=0.0, n_estimators=100,\n",
       "                      n_jobs=None, oob_score=False, random_state=None,\n",
       "                      verbose=0, warm_start=False)"
      ]
     },
     "execution_count": 46,
     "metadata": {},
     "output_type": "execute_result"
    }
   ],
   "source": [
    "rf.fit(X_train, y_train)"
   ]
  },
  {
   "cell_type": "code",
   "execution_count": 47,
   "metadata": {},
   "outputs": [],
   "source": [
    "y_pred_rf=rf.predict(X_test)\n",
    "acc_rf = rf.score(X_train, y_train)"
   ]
  },
  {
   "cell_type": "code",
   "execution_count": 48,
   "metadata": {},
   "outputs": [
    {
     "name": "stdout",
     "output_type": "stream",
     "text": [
      "99.70411536234037\n"
     ]
    }
   ],
   "source": [
    "print (acc_rf*100)"
   ]
  },
  {
   "cell_type": "code",
   "execution_count": 49,
   "metadata": {},
   "outputs": [],
   "source": [
    "from sklearn.tree import DecisionTreeRegressor"
   ]
  },
  {
   "cell_type": "code",
   "execution_count": 50,
   "metadata": {},
   "outputs": [],
   "source": [
    "dt = DecisionTreeRegressor()\n",
    "dt . fit(X_train, y_train)\n",
    "y_pred_dt = dt.predict(X_test)\n",
    "acc_dt= dt.score(X_train, y_train)"
   ]
  },
  {
   "cell_type": "code",
   "execution_count": 51,
   "metadata": {},
   "outputs": [
    {
     "name": "stdout",
     "output_type": "stream",
     "text": [
      "100.0\n"
     ]
    }
   ],
   "source": [
    "print(acc_dt*100)"
   ]
  },
  {
   "cell_type": "markdown",
   "metadata": {},
   "source": [
    "## Model Selection"
   ]
  },
  {
   "cell_type": "code",
   "execution_count": 52,
   "metadata": {},
   "outputs": [
    {
     "data": {
      "text/html": [
       "<div>\n",
       "<style scoped>\n",
       "    .dataframe tbody tr th:only-of-type {\n",
       "        vertical-align: middle;\n",
       "    }\n",
       "\n",
       "    .dataframe tbody tr th {\n",
       "        vertical-align: top;\n",
       "    }\n",
       "\n",
       "    .dataframe thead th {\n",
       "        text-align: right;\n",
       "    }\n",
       "</style>\n",
       "<table border=\"1\" class=\"dataframe\">\n",
       "  <thead>\n",
       "    <tr style=\"text-align: right;\">\n",
       "      <th></th>\n",
       "      <th>Model</th>\n",
       "      <th>Score</th>\n",
       "    </tr>\n",
       "  </thead>\n",
       "  <tbody>\n",
       "    <tr>\n",
       "      <td>2</td>\n",
       "      <td>Decision Tree</td>\n",
       "      <td>100.000000</td>\n",
       "    </tr>\n",
       "    <tr>\n",
       "      <td>1</td>\n",
       "      <td>Random Forest</td>\n",
       "      <td>99.704115</td>\n",
       "    </tr>\n",
       "    <tr>\n",
       "      <td>0</td>\n",
       "      <td>Linear Regression</td>\n",
       "      <td>10.824083</td>\n",
       "    </tr>\n",
       "  </tbody>\n",
       "</table>\n",
       "</div>"
      ],
      "text/plain": [
       "               Model       Score\n",
       "2      Decision Tree  100.000000\n",
       "1      Random Forest   99.704115\n",
       "0  Linear Regression   10.824083"
      ]
     },
     "execution_count": 52,
     "metadata": {},
     "output_type": "execute_result"
    }
   ],
   "source": [
    "models = pd.DataFrame({\n",
    "    'Model': ['Linear Regression','Random Forest','Decision Tree'],\n",
    "    \n",
    "    'Score': [acc_linear*100, acc_rf*100,acc_dt*100]\n",
    "    })\n",
    "\n",
    "models.sort_values(by='Score', ascending=False)"
   ]
  },
  {
   "cell_type": "code",
   "execution_count": 53,
   "metadata": {},
   "outputs": [],
   "source": [
    "# Prediction value using Random Forest model..\n",
    "prediction_rf = pd.DataFrame({\n",
    "        \"Store_Dept_Date\": X_test.Store_code.astype(str)+'_'+X_test.Dept_code.astype(str)+'_' + X_test.Date_year.astype(str)\n",
    "    +'-' + X_test.Date_month.astype(str) + '-' +  X_test.Date_day.astype(str),\n",
    "        \"Weekly_Sales\": y_pred_rf\n",
    "    })\n",
    "# print the result in csv file\n",
    "prediction_rf.to_csv('weekly_sales predicted using rf.csv', index=False)"
   ]
  },
  {
   "cell_type": "code",
   "execution_count": null,
   "metadata": {},
   "outputs": [],
   "source": []
  }
 ],
 "metadata": {
  "kernelspec": {
   "display_name": "Python 3",
   "language": "python",
   "name": "python3"
  },
  "language_info": {
   "codemirror_mode": {
    "name": "ipython",
    "version": 3
   },
   "file_extension": ".py",
   "mimetype": "text/x-python",
   "name": "python",
   "nbconvert_exporter": "python",
   "pygments_lexer": "ipython3",
   "version": "3.7.4"
  }
 },
 "nbformat": 4,
 "nbformat_minor": 2
}
